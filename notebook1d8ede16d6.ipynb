{
 "cells": [
  {
   "cell_type": "code",
   "execution_count": 1,
   "id": "a8ca5cc4",
   "metadata": {
    "_cell_guid": "b1076dfc-b9ad-4769-8c92-a6c4dae69d19",
    "_uuid": "8f2839f25d086af736a60e9eeb907d3b93b6e0e5",
    "execution": {
     "iopub.execute_input": "2023-03-20T16:48:25.359492Z",
     "iopub.status.busy": "2023-03-20T16:48:25.358274Z",
     "iopub.status.idle": "2023-03-20T16:48:25.380697Z",
     "shell.execute_reply": "2023-03-20T16:48:25.379390Z"
    },
    "papermill": {
     "duration": 0.032224,
     "end_time": "2023-03-20T16:48:25.383689",
     "exception": false,
     "start_time": "2023-03-20T16:48:25.351465",
     "status": "completed"
    },
    "tags": []
   },
   "outputs": [
    {
     "name": "stdout",
     "output_type": "stream",
     "text": [
      "/kaggle/input/cleaned-dataset-accenture/cleaned_ReactionTypes.csv\n",
      "/kaggle/input/cleaned-dataset-accenture/cleaned_content4.csv\n",
      "/kaggle/input/cleaned-dataset-accenture/cleaned_Reactions4.csv\n"
     ]
    }
   ],
   "source": [
    "# This Python 3 environment comes with many helpful analytics libraries installed\n",
    "# It is defined by the kaggle/python Docker image: https://github.com/kaggle/docker-python\n",
    "# For example, here's several helpful packages to load\n",
    "\n",
    "import numpy as np # linear algebra\n",
    "import pandas as pd # data processing, CSV file I/O (e.g. pd.read_csv)\n",
    "\n",
    "# Input data files are available in the read-only \"../input/\" directory\n",
    "# For example, running this (by clicking run or pressing Shift+Enter) will list all files under the input directory\n",
    "\n",
    "import os\n",
    "for dirname, _, filenames in os.walk('/kaggle/input'):\n",
    "    for filename in filenames:\n",
    "        print(os.path.join(dirname, filename))\n",
    "\n",
    "# You can write up to 20GB to the current directory (/kaggle/working/) that gets preserved as output when you create a version using \"Save & Run All\" \n",
    "# You can also write temporary files to /kaggle/temp/, but they won't be saved outside of the current session"
   ]
  },
  {
   "cell_type": "code",
   "execution_count": 2,
   "id": "28d98104",
   "metadata": {
    "execution": {
     "iopub.execute_input": "2023-03-20T16:48:25.394544Z",
     "iopub.status.busy": "2023-03-20T16:48:25.393783Z",
     "iopub.status.idle": "2023-03-20T16:48:25.519490Z",
     "shell.execute_reply": "2023-03-20T16:48:25.517786Z"
    },
    "papermill": {
     "duration": 0.134811,
     "end_time": "2023-03-20T16:48:25.523011",
     "exception": false,
     "start_time": "2023-03-20T16:48:25.388200",
     "status": "completed"
    },
    "tags": []
   },
   "outputs": [],
   "source": [
    "reactions_df = pd.read_csv(\"/kaggle/input/cleaned-dataset-accenture/cleaned_Reactions4.csv\")\n",
    "rtypes_df = pd.read_csv(\"/kaggle/input/cleaned-dataset-accenture/cleaned_ReactionTypes.csv\")\n",
    "content_df = pd.read_csv(\"/kaggle/input/cleaned-dataset-accenture/cleaned_content4.csv\", index_col=0)\n"
   ]
  },
  {
   "cell_type": "code",
   "execution_count": 3,
   "id": "cd6ee69c",
   "metadata": {
    "execution": {
     "iopub.execute_input": "2023-03-20T16:48:25.533614Z",
     "iopub.status.busy": "2023-03-20T16:48:25.533031Z",
     "iopub.status.idle": "2023-03-20T16:48:25.558203Z",
     "shell.execute_reply": "2023-03-20T16:48:25.556392Z"
    },
    "papermill": {
     "duration": 0.034527,
     "end_time": "2023-03-20T16:48:25.561715",
     "exception": false,
     "start_time": "2023-03-20T16:48:25.527188",
     "status": "completed"
    },
    "tags": []
   },
   "outputs": [
    {
     "data": {
      "text/html": [
       "<div>\n",
       "<style scoped>\n",
       "    .dataframe tbody tr th:only-of-type {\n",
       "        vertical-align: middle;\n",
       "    }\n",
       "\n",
       "    .dataframe tbody tr th {\n",
       "        vertical-align: top;\n",
       "    }\n",
       "\n",
       "    .dataframe thead th {\n",
       "        text-align: right;\n",
       "    }\n",
       "</style>\n",
       "<table border=\"1\" class=\"dataframe\">\n",
       "  <thead>\n",
       "    <tr style=\"text-align: right;\">\n",
       "      <th></th>\n",
       "      <th>Type</th>\n",
       "      <th>Score</th>\n",
       "    </tr>\n",
       "  </thead>\n",
       "  <tbody>\n",
       "    <tr>\n",
       "      <th>0</th>\n",
       "      <td>heart</td>\n",
       "      <td>60</td>\n",
       "    </tr>\n",
       "    <tr>\n",
       "      <th>1</th>\n",
       "      <td>want</td>\n",
       "      <td>70</td>\n",
       "    </tr>\n",
       "    <tr>\n",
       "      <th>2</th>\n",
       "      <td>disgust</td>\n",
       "      <td>0</td>\n",
       "    </tr>\n",
       "    <tr>\n",
       "      <th>3</th>\n",
       "      <td>hate</td>\n",
       "      <td>5</td>\n",
       "    </tr>\n",
       "    <tr>\n",
       "      <th>4</th>\n",
       "      <td>interested</td>\n",
       "      <td>30</td>\n",
       "    </tr>\n",
       "  </tbody>\n",
       "</table>\n",
       "</div>"
      ],
      "text/plain": [
       "         Type  Score\n",
       "0       heart     60\n",
       "1        want     70\n",
       "2     disgust      0\n",
       "3        hate      5\n",
       "4  interested     30"
      ]
     },
     "execution_count": 3,
     "metadata": {},
     "output_type": "execute_result"
    }
   ],
   "source": [
    "rtypes_df.head()"
   ]
  },
  {
   "cell_type": "code",
   "execution_count": 4,
   "id": "7db1cea0",
   "metadata": {
    "execution": {
     "iopub.execute_input": "2023-03-20T16:48:25.572275Z",
     "iopub.status.busy": "2023-03-20T16:48:25.571828Z",
     "iopub.status.idle": "2023-03-20T16:48:25.585619Z",
     "shell.execute_reply": "2023-03-20T16:48:25.584156Z"
    },
    "papermill": {
     "duration": 0.022121,
     "end_time": "2023-03-20T16:48:25.588221",
     "exception": false,
     "start_time": "2023-03-20T16:48:25.566100",
     "status": "completed"
    },
    "tags": []
   },
   "outputs": [
    {
     "data": {
      "text/html": [
       "<div>\n",
       "<style scoped>\n",
       "    .dataframe tbody tr th:only-of-type {\n",
       "        vertical-align: middle;\n",
       "    }\n",
       "\n",
       "    .dataframe tbody tr th {\n",
       "        vertical-align: top;\n",
       "    }\n",
       "\n",
       "    .dataframe thead th {\n",
       "        text-align: right;\n",
       "    }\n",
       "</style>\n",
       "<table border=\"1\" class=\"dataframe\">\n",
       "  <thead>\n",
       "    <tr style=\"text-align: right;\">\n",
       "      <th></th>\n",
       "      <th>Content ID</th>\n",
       "      <th>Type</th>\n",
       "      <th>Category</th>\n",
       "    </tr>\n",
       "  </thead>\n",
       "  <tbody>\n",
       "    <tr>\n",
       "      <th>0</th>\n",
       "      <td>97522e57-d9ab-4bd6-97bf-c24d952602d2</td>\n",
       "      <td>photo</td>\n",
       "      <td>Studying</td>\n",
       "    </tr>\n",
       "    <tr>\n",
       "      <th>1</th>\n",
       "      <td>9f737e0a-3cdd-4d29-9d24-753f4e3be810</td>\n",
       "      <td>photo</td>\n",
       "      <td>Healthy eating</td>\n",
       "    </tr>\n",
       "    <tr>\n",
       "      <th>2</th>\n",
       "      <td>230c4e4d-70c3-461d-b42c-ec09396efb3f</td>\n",
       "      <td>photo</td>\n",
       "      <td>Healthy eating</td>\n",
       "    </tr>\n",
       "    <tr>\n",
       "      <th>3</th>\n",
       "      <td>356fff80-da4d-4785-9f43-bc1261031dc6</td>\n",
       "      <td>photo</td>\n",
       "      <td>Technology</td>\n",
       "    </tr>\n",
       "    <tr>\n",
       "      <th>4</th>\n",
       "      <td>01ab84dd-6364-4236-abbb-3f237db77180</td>\n",
       "      <td>video</td>\n",
       "      <td>Food</td>\n",
       "    </tr>\n",
       "  </tbody>\n",
       "</table>\n",
       "</div>"
      ],
      "text/plain": [
       "                             Content ID   Type        Category\n",
       "0  97522e57-d9ab-4bd6-97bf-c24d952602d2  photo        Studying\n",
       "1  9f737e0a-3cdd-4d29-9d24-753f4e3be810  photo  Healthy eating\n",
       "2  230c4e4d-70c3-461d-b42c-ec09396efb3f  photo  Healthy eating\n",
       "3  356fff80-da4d-4785-9f43-bc1261031dc6  photo      Technology\n",
       "4  01ab84dd-6364-4236-abbb-3f237db77180  video            Food"
      ]
     },
     "execution_count": 4,
     "metadata": {},
     "output_type": "execute_result"
    }
   ],
   "source": [
    "content_df.head()"
   ]
  },
  {
   "cell_type": "code",
   "execution_count": null,
   "id": "18e05f51",
   "metadata": {
    "papermill": {
     "duration": 0.004139,
     "end_time": "2023-03-20T16:48:25.596963",
     "exception": false,
     "start_time": "2023-03-20T16:48:25.592824",
     "status": "completed"
    },
    "tags": []
   },
   "outputs": [],
   "source": []
  },
  {
   "cell_type": "code",
   "execution_count": 5,
   "id": "102100f2",
   "metadata": {
    "execution": {
     "iopub.execute_input": "2023-03-20T16:48:25.608104Z",
     "iopub.status.busy": "2023-03-20T16:48:25.607568Z",
     "iopub.status.idle": "2023-03-20T16:48:25.639355Z",
     "shell.execute_reply": "2023-03-20T16:48:25.638111Z"
    },
    "papermill": {
     "duration": 0.040435,
     "end_time": "2023-03-20T16:48:25.641939",
     "exception": false,
     "start_time": "2023-03-20T16:48:25.601504",
     "status": "completed"
    },
    "tags": []
   },
   "outputs": [
    {
     "data": {
      "text/html": [
       "<div>\n",
       "<style scoped>\n",
       "    .dataframe tbody tr th:only-of-type {\n",
       "        vertical-align: middle;\n",
       "    }\n",
       "\n",
       "    .dataframe tbody tr th {\n",
       "        vertical-align: top;\n",
       "    }\n",
       "\n",
       "    .dataframe thead th {\n",
       "        text-align: right;\n",
       "    }\n",
       "</style>\n",
       "<table border=\"1\" class=\"dataframe\">\n",
       "  <thead>\n",
       "    <tr style=\"text-align: right;\">\n",
       "      <th></th>\n",
       "      <th>Content ID</th>\n",
       "      <th>User ID</th>\n",
       "      <th>Type_reaction</th>\n",
       "      <th>Datetime</th>\n",
       "      <th>Type_content</th>\n",
       "      <th>Category</th>\n",
       "    </tr>\n",
       "  </thead>\n",
       "  <tbody>\n",
       "    <tr>\n",
       "      <th>0</th>\n",
       "      <td>97522e57-d9ab-4bd6-97bf-c24d952602d2</td>\n",
       "      <td>5d454588-283d-459d-915d-c48a2cb4c27f</td>\n",
       "      <td>disgust</td>\n",
       "      <td>2020-11-07 09:43:50</td>\n",
       "      <td>photo</td>\n",
       "      <td>Studying</td>\n",
       "    </tr>\n",
       "    <tr>\n",
       "      <th>1</th>\n",
       "      <td>97522e57-d9ab-4bd6-97bf-c24d952602d2</td>\n",
       "      <td>92b87fa5-f271-43e0-af66-84fac21052e6</td>\n",
       "      <td>dislike</td>\n",
       "      <td>2021-06-17 12:22:51</td>\n",
       "      <td>photo</td>\n",
       "      <td>Studying</td>\n",
       "    </tr>\n",
       "    <tr>\n",
       "      <th>2</th>\n",
       "      <td>97522e57-d9ab-4bd6-97bf-c24d952602d2</td>\n",
       "      <td>163daa38-8b77-48c9-9af6-37a6c1447ac2</td>\n",
       "      <td>scared</td>\n",
       "      <td>2021-04-18 05:13:58</td>\n",
       "      <td>photo</td>\n",
       "      <td>Studying</td>\n",
       "    </tr>\n",
       "    <tr>\n",
       "      <th>3</th>\n",
       "      <td>97522e57-d9ab-4bd6-97bf-c24d952602d2</td>\n",
       "      <td>34e8add9-0206-47fd-a501-037b994650a2</td>\n",
       "      <td>disgust</td>\n",
       "      <td>2021-01-06 19:13:01</td>\n",
       "      <td>photo</td>\n",
       "      <td>Studying</td>\n",
       "    </tr>\n",
       "    <tr>\n",
       "      <th>4</th>\n",
       "      <td>97522e57-d9ab-4bd6-97bf-c24d952602d2</td>\n",
       "      <td>9b6d35f9-5e15-4cd0-a8d7-b1f3340e02c4</td>\n",
       "      <td>interested</td>\n",
       "      <td>2020-08-23 12:25:58</td>\n",
       "      <td>photo</td>\n",
       "      <td>Studying</td>\n",
       "    </tr>\n",
       "  </tbody>\n",
       "</table>\n",
       "</div>"
      ],
      "text/plain": [
       "                             Content ID                               User ID  \\\n",
       "0  97522e57-d9ab-4bd6-97bf-c24d952602d2  5d454588-283d-459d-915d-c48a2cb4c27f   \n",
       "1  97522e57-d9ab-4bd6-97bf-c24d952602d2  92b87fa5-f271-43e0-af66-84fac21052e6   \n",
       "2  97522e57-d9ab-4bd6-97bf-c24d952602d2  163daa38-8b77-48c9-9af6-37a6c1447ac2   \n",
       "3  97522e57-d9ab-4bd6-97bf-c24d952602d2  34e8add9-0206-47fd-a501-037b994650a2   \n",
       "4  97522e57-d9ab-4bd6-97bf-c24d952602d2  9b6d35f9-5e15-4cd0-a8d7-b1f3340e02c4   \n",
       "\n",
       "  Type_reaction             Datetime Type_content  Category  \n",
       "0       disgust  2020-11-07 09:43:50        photo  Studying  \n",
       "1       dislike  2021-06-17 12:22:51        photo  Studying  \n",
       "2        scared  2021-04-18 05:13:58        photo  Studying  \n",
       "3       disgust  2021-01-06 19:13:01        photo  Studying  \n",
       "4    interested  2020-08-23 12:25:58        photo  Studying  "
      ]
     },
     "execution_count": 5,
     "metadata": {},
     "output_type": "execute_result"
    }
   ],
   "source": [
    "reactions_content = reactions_df.merge(content_df, on=\"Content ID\", suffixes=(\"_reaction\",\"_content\"))\n",
    "\n",
    "reactions_content.head()"
   ]
  },
  {
   "cell_type": "code",
   "execution_count": 6,
   "id": "58086ede",
   "metadata": {
    "execution": {
     "iopub.execute_input": "2023-03-20T16:48:25.654163Z",
     "iopub.status.busy": "2023-03-20T16:48:25.653723Z",
     "iopub.status.idle": "2023-03-20T16:48:25.679161Z",
     "shell.execute_reply": "2023-03-20T16:48:25.678247Z"
    },
    "papermill": {
     "duration": 0.035134,
     "end_time": "2023-03-20T16:48:25.681792",
     "exception": false,
     "start_time": "2023-03-20T16:48:25.646658",
     "status": "completed"
    },
    "tags": []
   },
   "outputs": [
    {
     "data": {
      "text/html": [
       "<div>\n",
       "<style scoped>\n",
       "    .dataframe tbody tr th:only-of-type {\n",
       "        vertical-align: middle;\n",
       "    }\n",
       "\n",
       "    .dataframe tbody tr th {\n",
       "        vertical-align: top;\n",
       "    }\n",
       "\n",
       "    .dataframe thead th {\n",
       "        text-align: right;\n",
       "    }\n",
       "</style>\n",
       "<table border=\"1\" class=\"dataframe\">\n",
       "  <thead>\n",
       "    <tr style=\"text-align: right;\">\n",
       "      <th></th>\n",
       "      <th>Content ID</th>\n",
       "      <th>User ID</th>\n",
       "      <th>Type_reaction</th>\n",
       "      <th>Datetime</th>\n",
       "      <th>Type_content</th>\n",
       "      <th>Category</th>\n",
       "      <th>Type</th>\n",
       "      <th>Score</th>\n",
       "    </tr>\n",
       "  </thead>\n",
       "  <tbody>\n",
       "    <tr>\n",
       "      <th>0</th>\n",
       "      <td>97522e57-d9ab-4bd6-97bf-c24d952602d2</td>\n",
       "      <td>5d454588-283d-459d-915d-c48a2cb4c27f</td>\n",
       "      <td>disgust</td>\n",
       "      <td>2020-11-07 09:43:50</td>\n",
       "      <td>photo</td>\n",
       "      <td>Studying</td>\n",
       "      <td>disgust</td>\n",
       "      <td>0</td>\n",
       "    </tr>\n",
       "    <tr>\n",
       "      <th>1</th>\n",
       "      <td>97522e57-d9ab-4bd6-97bf-c24d952602d2</td>\n",
       "      <td>34e8add9-0206-47fd-a501-037b994650a2</td>\n",
       "      <td>disgust</td>\n",
       "      <td>2021-01-06 19:13:01</td>\n",
       "      <td>photo</td>\n",
       "      <td>Studying</td>\n",
       "      <td>disgust</td>\n",
       "      <td>0</td>\n",
       "    </tr>\n",
       "    <tr>\n",
       "      <th>2</th>\n",
       "      <td>97522e57-d9ab-4bd6-97bf-c24d952602d2</td>\n",
       "      <td>13c06e7e-833d-47eb-a790-5e09ccfd8d2c</td>\n",
       "      <td>disgust</td>\n",
       "      <td>2021-04-09 02:46:20</td>\n",
       "      <td>photo</td>\n",
       "      <td>Studying</td>\n",
       "      <td>disgust</td>\n",
       "      <td>0</td>\n",
       "    </tr>\n",
       "    <tr>\n",
       "      <th>3</th>\n",
       "      <td>9f737e0a-3cdd-4d29-9d24-753f4e3be810</td>\n",
       "      <td>8b49caad-bcc5-43de-bf40-34a66ff8805c</td>\n",
       "      <td>disgust</td>\n",
       "      <td>2021-03-28 21:15:26</td>\n",
       "      <td>photo</td>\n",
       "      <td>Healthy eating</td>\n",
       "      <td>disgust</td>\n",
       "      <td>0</td>\n",
       "    </tr>\n",
       "    <tr>\n",
       "      <th>4</th>\n",
       "      <td>230c4e4d-70c3-461d-b42c-ec09396efb3f</td>\n",
       "      <td>ef147ea5-9696-44d5-b6c2-a43f62fd8ce2</td>\n",
       "      <td>disgust</td>\n",
       "      <td>2020-08-04 05:40:33</td>\n",
       "      <td>photo</td>\n",
       "      <td>Healthy eating</td>\n",
       "      <td>disgust</td>\n",
       "      <td>0</td>\n",
       "    </tr>\n",
       "  </tbody>\n",
       "</table>\n",
       "</div>"
      ],
      "text/plain": [
       "                             Content ID                               User ID  \\\n",
       "0  97522e57-d9ab-4bd6-97bf-c24d952602d2  5d454588-283d-459d-915d-c48a2cb4c27f   \n",
       "1  97522e57-d9ab-4bd6-97bf-c24d952602d2  34e8add9-0206-47fd-a501-037b994650a2   \n",
       "2  97522e57-d9ab-4bd6-97bf-c24d952602d2  13c06e7e-833d-47eb-a790-5e09ccfd8d2c   \n",
       "3  9f737e0a-3cdd-4d29-9d24-753f4e3be810  8b49caad-bcc5-43de-bf40-34a66ff8805c   \n",
       "4  230c4e4d-70c3-461d-b42c-ec09396efb3f  ef147ea5-9696-44d5-b6c2-a43f62fd8ce2   \n",
       "\n",
       "  Type_reaction             Datetime Type_content        Category     Type  \\\n",
       "0       disgust  2020-11-07 09:43:50        photo        Studying  disgust   \n",
       "1       disgust  2021-01-06 19:13:01        photo        Studying  disgust   \n",
       "2       disgust  2021-04-09 02:46:20        photo        Studying  disgust   \n",
       "3       disgust  2021-03-28 21:15:26        photo  Healthy eating  disgust   \n",
       "4       disgust  2020-08-04 05:40:33        photo  Healthy eating  disgust   \n",
       "\n",
       "   Score  \n",
       "0      0  \n",
       "1      0  \n",
       "2      0  \n",
       "3      0  \n",
       "4      0  "
      ]
     },
     "execution_count": 6,
     "metadata": {},
     "output_type": "execute_result"
    }
   ],
   "source": [
    "all_merge = reactions_content.merge(rtypes_df, left_on=\"Type_reaction\", right_on=\"Type\")\n",
    "\n",
    "all_merge.head()"
   ]
  },
  {
   "cell_type": "code",
   "execution_count": 7,
   "id": "fd9e396c",
   "metadata": {
    "execution": {
     "iopub.execute_input": "2023-03-20T16:48:25.694306Z",
     "iopub.status.busy": "2023-03-20T16:48:25.693481Z",
     "iopub.status.idle": "2023-03-20T16:48:25.718899Z",
     "shell.execute_reply": "2023-03-20T16:48:25.717686Z"
    },
    "papermill": {
     "duration": 0.034538,
     "end_time": "2023-03-20T16:48:25.721556",
     "exception": false,
     "start_time": "2023-03-20T16:48:25.687018",
     "status": "completed"
    },
    "tags": []
   },
   "outputs": [
    {
     "data": {
      "text/plain": [
       "Category\n",
       "Animals           74654\n",
       "Science           70914\n",
       "Healthy eating    69094\n",
       "Technology        68429\n",
       "Food              66089\n",
       "Name: Score, dtype: int64"
      ]
     },
     "execution_count": 7,
     "metadata": {},
     "output_type": "execute_result"
    }
   ],
   "source": [
    "# select relevant columns\n",
    "rel_columns = all_merge[[\"Content ID\", \"Datetime\", \"Type_content\", \"Category\", \"Type\", \"Score\"]]\n",
    "\n",
    "group_cats = rel_columns.groupby(\"Category\")[\"Score\"].sum()\n",
    "\n",
    "top_5 = group_cats.sort_values(ascending=False)[:5]\n",
    "\n",
    "top_5"
   ]
  },
  {
   "cell_type": "code",
   "execution_count": 8,
   "id": "17c4a69f",
   "metadata": {
    "execution": {
     "iopub.execute_input": "2023-03-20T16:48:25.733392Z",
     "iopub.status.busy": "2023-03-20T16:48:25.733008Z",
     "iopub.status.idle": "2023-03-20T16:48:25.747786Z",
     "shell.execute_reply": "2023-03-20T16:48:25.746596Z"
    },
    "papermill": {
     "duration": 0.023887,
     "end_time": "2023-03-20T16:48:25.750396",
     "exception": false,
     "start_time": "2023-03-20T16:48:25.726509",
     "status": "completed"
    },
    "tags": []
   },
   "outputs": [
    {
     "data": {
      "text/html": [
       "<div>\n",
       "<style scoped>\n",
       "    .dataframe tbody tr th:only-of-type {\n",
       "        vertical-align: middle;\n",
       "    }\n",
       "\n",
       "    .dataframe tbody tr th {\n",
       "        vertical-align: top;\n",
       "    }\n",
       "\n",
       "    .dataframe thead th {\n",
       "        text-align: right;\n",
       "    }\n",
       "</style>\n",
       "<table border=\"1\" class=\"dataframe\">\n",
       "  <thead>\n",
       "    <tr style=\"text-align: right;\">\n",
       "      <th></th>\n",
       "      <th>Content ID</th>\n",
       "      <th>Datetime</th>\n",
       "      <th>Type_content</th>\n",
       "      <th>Category</th>\n",
       "      <th>Type</th>\n",
       "      <th>Score</th>\n",
       "    </tr>\n",
       "  </thead>\n",
       "  <tbody>\n",
       "    <tr>\n",
       "      <th>0</th>\n",
       "      <td>97522e57-d9ab-4bd6-97bf-c24d952602d2</td>\n",
       "      <td>2020-11-07 09:43:50</td>\n",
       "      <td>photo</td>\n",
       "      <td>Studying</td>\n",
       "      <td>disgust</td>\n",
       "      <td>0</td>\n",
       "    </tr>\n",
       "    <tr>\n",
       "      <th>1</th>\n",
       "      <td>97522e57-d9ab-4bd6-97bf-c24d952602d2</td>\n",
       "      <td>2021-01-06 19:13:01</td>\n",
       "      <td>photo</td>\n",
       "      <td>Studying</td>\n",
       "      <td>disgust</td>\n",
       "      <td>0</td>\n",
       "    </tr>\n",
       "    <tr>\n",
       "      <th>2</th>\n",
       "      <td>97522e57-d9ab-4bd6-97bf-c24d952602d2</td>\n",
       "      <td>2021-04-09 02:46:20</td>\n",
       "      <td>photo</td>\n",
       "      <td>Studying</td>\n",
       "      <td>disgust</td>\n",
       "      <td>0</td>\n",
       "    </tr>\n",
       "    <tr>\n",
       "      <th>3</th>\n",
       "      <td>9f737e0a-3cdd-4d29-9d24-753f4e3be810</td>\n",
       "      <td>2021-03-28 21:15:26</td>\n",
       "      <td>photo</td>\n",
       "      <td>Healthy eating</td>\n",
       "      <td>disgust</td>\n",
       "      <td>0</td>\n",
       "    </tr>\n",
       "    <tr>\n",
       "      <th>4</th>\n",
       "      <td>230c4e4d-70c3-461d-b42c-ec09396efb3f</td>\n",
       "      <td>2020-08-04 05:40:33</td>\n",
       "      <td>photo</td>\n",
       "      <td>Healthy eating</td>\n",
       "      <td>disgust</td>\n",
       "      <td>0</td>\n",
       "    </tr>\n",
       "  </tbody>\n",
       "</table>\n",
       "</div>"
      ],
      "text/plain": [
       "                             Content ID             Datetime Type_content  \\\n",
       "0  97522e57-d9ab-4bd6-97bf-c24d952602d2  2020-11-07 09:43:50        photo   \n",
       "1  97522e57-d9ab-4bd6-97bf-c24d952602d2  2021-01-06 19:13:01        photo   \n",
       "2  97522e57-d9ab-4bd6-97bf-c24d952602d2  2021-04-09 02:46:20        photo   \n",
       "3  9f737e0a-3cdd-4d29-9d24-753f4e3be810  2021-03-28 21:15:26        photo   \n",
       "4  230c4e4d-70c3-461d-b42c-ec09396efb3f  2020-08-04 05:40:33        photo   \n",
       "\n",
       "         Category     Type  Score  \n",
       "0        Studying  disgust      0  \n",
       "1        Studying  disgust      0  \n",
       "2        Studying  disgust      0  \n",
       "3  Healthy eating  disgust      0  \n",
       "4  Healthy eating  disgust      0  "
      ]
     },
     "execution_count": 8,
     "metadata": {},
     "output_type": "execute_result"
    }
   ],
   "source": [
    "rel_columns.head()"
   ]
  },
  {
   "cell_type": "code",
   "execution_count": 9,
   "id": "6860d58f",
   "metadata": {
    "execution": {
     "iopub.execute_input": "2023-03-20T16:48:25.763543Z",
     "iopub.status.busy": "2023-03-20T16:48:25.763143Z",
     "iopub.status.idle": "2023-03-20T16:48:25.776860Z",
     "shell.execute_reply": "2023-03-20T16:48:25.774755Z"
    },
    "papermill": {
     "duration": 0.024075,
     "end_time": "2023-03-20T16:48:25.779708",
     "exception": false,
     "start_time": "2023-03-20T16:48:25.755633",
     "status": "completed"
    },
    "tags": []
   },
   "outputs": [
    {
     "name": "stderr",
     "output_type": "stream",
     "text": [
      "/opt/conda/lib/python3.7/site-packages/pandas/core/frame.py:5047: SettingWithCopyWarning: \n",
      "A value is trying to be set on a copy of a slice from a DataFrame\n",
      "\n",
      "See the caveats in the documentation: https://pandas.pydata.org/pandas-docs/stable/user_guide/indexing.html#returning-a-view-versus-a-copy\n",
      "  errors=errors,\n"
     ]
    }
   ],
   "source": [
    "rel_columns.rename(columns = {'Type_content':'Content Type', 'Type': 'Reaction Type'}, inplace = True)"
   ]
  },
  {
   "cell_type": "code",
   "execution_count": 10,
   "id": "ea04774b",
   "metadata": {
    "execution": {
     "iopub.execute_input": "2023-03-20T16:48:25.793521Z",
     "iopub.status.busy": "2023-03-20T16:48:25.793045Z",
     "iopub.status.idle": "2023-03-20T16:48:25.807124Z",
     "shell.execute_reply": "2023-03-20T16:48:25.805982Z"
    },
    "papermill": {
     "duration": 0.024751,
     "end_time": "2023-03-20T16:48:25.809843",
     "exception": false,
     "start_time": "2023-03-20T16:48:25.785092",
     "status": "completed"
    },
    "tags": []
   },
   "outputs": [
    {
     "data": {
      "text/html": [
       "<div>\n",
       "<style scoped>\n",
       "    .dataframe tbody tr th:only-of-type {\n",
       "        vertical-align: middle;\n",
       "    }\n",
       "\n",
       "    .dataframe tbody tr th {\n",
       "        vertical-align: top;\n",
       "    }\n",
       "\n",
       "    .dataframe thead th {\n",
       "        text-align: right;\n",
       "    }\n",
       "</style>\n",
       "<table border=\"1\" class=\"dataframe\">\n",
       "  <thead>\n",
       "    <tr style=\"text-align: right;\">\n",
       "      <th></th>\n",
       "      <th>Content ID</th>\n",
       "      <th>Datetime</th>\n",
       "      <th>Content Type</th>\n",
       "      <th>Category</th>\n",
       "      <th>Reaction Type</th>\n",
       "      <th>Score</th>\n",
       "    </tr>\n",
       "  </thead>\n",
       "  <tbody>\n",
       "    <tr>\n",
       "      <th>0</th>\n",
       "      <td>97522e57-d9ab-4bd6-97bf-c24d952602d2</td>\n",
       "      <td>2020-11-07 09:43:50</td>\n",
       "      <td>photo</td>\n",
       "      <td>Studying</td>\n",
       "      <td>disgust</td>\n",
       "      <td>0</td>\n",
       "    </tr>\n",
       "    <tr>\n",
       "      <th>1</th>\n",
       "      <td>97522e57-d9ab-4bd6-97bf-c24d952602d2</td>\n",
       "      <td>2021-01-06 19:13:01</td>\n",
       "      <td>photo</td>\n",
       "      <td>Studying</td>\n",
       "      <td>disgust</td>\n",
       "      <td>0</td>\n",
       "    </tr>\n",
       "    <tr>\n",
       "      <th>2</th>\n",
       "      <td>97522e57-d9ab-4bd6-97bf-c24d952602d2</td>\n",
       "      <td>2021-04-09 02:46:20</td>\n",
       "      <td>photo</td>\n",
       "      <td>Studying</td>\n",
       "      <td>disgust</td>\n",
       "      <td>0</td>\n",
       "    </tr>\n",
       "    <tr>\n",
       "      <th>3</th>\n",
       "      <td>9f737e0a-3cdd-4d29-9d24-753f4e3be810</td>\n",
       "      <td>2021-03-28 21:15:26</td>\n",
       "      <td>photo</td>\n",
       "      <td>Healthy eating</td>\n",
       "      <td>disgust</td>\n",
       "      <td>0</td>\n",
       "    </tr>\n",
       "    <tr>\n",
       "      <th>4</th>\n",
       "      <td>230c4e4d-70c3-461d-b42c-ec09396efb3f</td>\n",
       "      <td>2020-08-04 05:40:33</td>\n",
       "      <td>photo</td>\n",
       "      <td>Healthy eating</td>\n",
       "      <td>disgust</td>\n",
       "      <td>0</td>\n",
       "    </tr>\n",
       "  </tbody>\n",
       "</table>\n",
       "</div>"
      ],
      "text/plain": [
       "                             Content ID             Datetime Content Type  \\\n",
       "0  97522e57-d9ab-4bd6-97bf-c24d952602d2  2020-11-07 09:43:50        photo   \n",
       "1  97522e57-d9ab-4bd6-97bf-c24d952602d2  2021-01-06 19:13:01        photo   \n",
       "2  97522e57-d9ab-4bd6-97bf-c24d952602d2  2021-04-09 02:46:20        photo   \n",
       "3  9f737e0a-3cdd-4d29-9d24-753f4e3be810  2021-03-28 21:15:26        photo   \n",
       "4  230c4e4d-70c3-461d-b42c-ec09396efb3f  2020-08-04 05:40:33        photo   \n",
       "\n",
       "         Category Reaction Type  Score  \n",
       "0        Studying       disgust      0  \n",
       "1        Studying       disgust      0  \n",
       "2        Studying       disgust      0  \n",
       "3  Healthy eating       disgust      0  \n",
       "4  Healthy eating       disgust      0  "
      ]
     },
     "execution_count": 10,
     "metadata": {},
     "output_type": "execute_result"
    }
   ],
   "source": [
    "rel_columns.head()"
   ]
  },
  {
   "cell_type": "code",
   "execution_count": 11,
   "id": "89f2a6b1",
   "metadata": {
    "execution": {
     "iopub.execute_input": "2023-03-20T16:48:25.824582Z",
     "iopub.status.busy": "2023-03-20T16:48:25.823817Z",
     "iopub.status.idle": "2023-03-20T16:48:30.370500Z",
     "shell.execute_reply": "2023-03-20T16:48:30.368457Z"
    },
    "papermill": {
     "duration": 4.557606,
     "end_time": "2023-03-20T16:48:30.373519",
     "exception": false,
     "start_time": "2023-03-20T16:48:25.815913",
     "status": "completed"
    },
    "tags": []
   },
   "outputs": [],
   "source": [
    "with pd.ExcelWriter(\"final_datasheet.xlsx\") as writer:\n",
    "   \n",
    "    # use to_excel function and specify the sheet_name and index\n",
    "    # to store the dataframe in specified sheet\n",
    "    rel_columns.to_excel(writer, sheet_name=\"Scores for Contents\", index=False)\n",
    "    top_5.to_excel(writer, sheet_name=\"Top 5 Categories\")"
   ]
  },
  {
   "cell_type": "code",
   "execution_count": null,
   "id": "079cb808",
   "metadata": {
    "papermill": {
     "duration": 0.005347,
     "end_time": "2023-03-20T16:48:30.384815",
     "exception": false,
     "start_time": "2023-03-20T16:48:30.379468",
     "status": "completed"
    },
    "tags": []
   },
   "outputs": [],
   "source": []
  }
 ],
 "metadata": {
  "kernelspec": {
   "display_name": "Python 3",
   "language": "python",
   "name": "python3"
  },
  "language_info": {
   "codemirror_mode": {
    "name": "ipython",
    "version": 3
   },
   "file_extension": ".py",
   "mimetype": "text/x-python",
   "name": "python",
   "nbconvert_exporter": "python",
   "pygments_lexer": "ipython3",
   "version": "3.7.12"
  },
  "papermill": {
   "default_parameters": {},
   "duration": 17.084013,
   "end_time": "2023-03-20T16:48:31.215104",
   "environment_variables": {},
   "exception": null,
   "input_path": "__notebook__.ipynb",
   "output_path": "__notebook__.ipynb",
   "parameters": {},
   "start_time": "2023-03-20T16:48:14.131091",
   "version": "2.4.0"
  }
 },
 "nbformat": 4,
 "nbformat_minor": 5
}
